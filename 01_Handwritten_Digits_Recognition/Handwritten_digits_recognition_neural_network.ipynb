{
 "cells": [
  {
   "cell_type": "markdown",
   "metadata": {},
   "source": [
    "<h1 style=\"color:green\" align=\"center\">Handwritten Digits Classification Using Neural Network</h1>\n",
    "\n",
    "\n",
    "We will classify handwritten digits with the neural network in this notebook. Firstly, we will use very simple newral network which will have only input and output layers. Then we will than add a hidden layer and observe the performance of the model improves. Finally analyze the performance of all models.\n",
    "\n",
    "So we will build flowing THREE models:\n",
    "- Model-1: Simple neural network with no hidden layers\n",
    "- Model-2: Using hidden layer in the neural network\n",
    "- Model-3: Using flatten layer technique without using ``.reshape`` on input dataset\n"
   ]
  },
  {
   "cell_type": "markdown",
   "metadata": {},
   "source": [
    "# Table of Contents\n",
    " \n",
    "* [Introduction](#introduction) \n",
    " \n",
    "* [Import essential pakages](#import_pakages)\n",
    " \n",
    "* [Prepare our data](#data_preparation)\n",
    "\n",
    " * [Normalize data](#normalize_data)\n",
    "\n",
    "* [Build the models](#build_models)\n",
    "  * [Model-1: Simple neural network with no hidden layers](#model1)\n",
    "   * [Confusion matrix for model-1](#model1_confusion_matrix)\n",
    "  * [Model-2: Using hidden layer in the neural network](#model2)\n",
    "   * [Confusion matrix for model-2](#model2_confusion_matrix)\n",
    "  * [Model-3: Using flatten layer technique without using .reshape on input dataset](#model3)\n",
    "   * [Confusion matrix for model-3](#model3_confusion_matrix)\n",
    "* [Save the Model and Load the model back](#save) \n",
    " "
   ]
  },
  {
   "cell_type": "markdown",
   "metadata": {},
   "source": [
    "`` Summary:``\n",
    "\n",
    "- Challenges: \n",
    "- What we did: \n",
    "- The outcome and benefits:\n",
    "- <p style=\"color:magenta\" align=\"left\">Future work:</p> \n",
    "\n",
    " - Use different ``activation`` function, ``loss`` function, ``optimizer``, ``epochs`` and different values of ``matrics``, then analyze how the model behave.\n",
    "\n",
    "    \n",
    "`` Note:`` This problem is chosen as a toy problem - to practice and learn the neural network."
   ]
  },
  {
   "cell_type": "markdown",
   "metadata": {},
   "source": [
    "## Introduction and Background Materials \n",
    "<a id=\"#introduction\" > </a>\n",
    "\n",
    "\n",
    "The artificial neuron, loosely modeled off of a neuron in the human brain, simply hosts the mathematical computations. Like our neurons, it triggers when it encounters sufficient stimuli. The neuron combines input from the data with a set of coefficients, or weights, that either amplify or dampen that input, which thereby assigns significance to inputs for the task the algorithm is trying to learn. See each part of the neuron in action in the next image <a url = \"https://www.mql5.com/en/forum/380098\">[ref]</a>:\n",
    "\n",
    "<img src =\"artificialneuron.gif\"/>\n",
    "\n",
    "The idea is to take a large number of handwritten digits, known as training examples, and then develop a system which can learn from those training examples. In other words, the neural network uses the examples to automatically infer rules for recognizing handwritten digits.\n",
    "\n",
    "``Data: `` The MNIST data set is used.\n",
    "\n",
    "``Dense Layer: `` If a neuron is connected all neuron in the next layer then we call dense layer.\n",
    "\n",
    "For more details see the [notes on neural network](./Notes_on_artificial_neural_network.ipynb).\n",
    "\n",
    "Ref: <a url = \"https://www.mql5.com/en/forum/380098\"> Image source is here. </a>"
   ]
  },
  {
   "cell_type": "markdown",
   "metadata": {},
   "source": [
    "## Import essential pakages\n",
    "<a id=\"import_pakages\"/>"
   ]
  },
  {
   "cell_type": "code",
   "execution_count": 3,
   "metadata": {},
   "outputs": [
    {
     "name": "stdout",
     "output_type": "stream",
     "text": [
      "tensorflow version: 2.3.0\n"
     ]
    }
   ],
   "source": [
    "import tensorflow as tf            \n",
    "import tensorflow.keras as keras  # deep learning library, tensors are just multi-dimensional arrays\n",
    "import matplotlib.pyplot as plt\n",
    "%matplotlib inline\n",
    "import numpy as np\n",
    "print('tensorflow version:',tf.__version__)"
   ]
  },
  {
   "cell_type": "markdown",
   "metadata": {},
   "source": [
    "## Prepare our data\n",
    "<a id = \"#data_preparation\"></a>\n",
    "\n",
    "- We use the mnist dataset. The mnist dataset of hand-written digits, 0 through 9, and 28x28 images of these hand-written digits. \n",
    "- The x_train data is the \"features.\" The features are pixel values of the 28x28 images of these digits 0-9. \n",
    "- The y_train is the label (0,1,2,3,4,5,6,7,8 or 9)"
   ]
  },
  {
   "cell_type": "code",
   "execution_count": 4,
   "metadata": {},
   "outputs": [
    {
     "name": "stdout",
     "output_type": "stream",
     "text": [
      "len(X_train)= 60000\n",
      "len(X_test)= 10000\n",
      "Size of image= (28, 28)\n"
     ]
    }
   ],
   "source": [
    "mnist = keras.datasets.mnist\n",
    "(x_train, y_train) , (x_test, y_test) = mnist.load_data()\n",
    "\n",
    "print('len(X_train)=',len(x_train))\n",
    "print('len(X_test)=',len(x_test))\n",
    "print('Size of image=',x_train[0].shape)\n",
    "# print('\\nx_train[0] = ',x_train[0])"
   ]
  },
  {
   "cell_type": "markdown",
   "metadata": {},
   "source": [
    "- Display the first image in x_train "
   ]
  },
  {
   "cell_type": "code",
   "execution_count": 7,
   "metadata": {
    "scrolled": true
   },
   "outputs": [
    {
     "data": {
      "text/plain": [
       "<matplotlib.image.AxesImage at 0x17fe1a36880>"
      ]
     },
     "execution_count": 7,
     "metadata": {},
     "output_type": "execute_result"
    },
    {
     "data": {
      "image/png": "[encoded data removed]",
      "text/plain": [
       "<Figure size 288x288 with 1 Axes>"
      ]
     },
     "metadata": {
      "needs_background": "light"
     },
     "output_type": "display_data"
    }
   ],
   "source": [
    "plt.matshow(x_train[0])  # Display the first image in X_train "
   ]
  },
  {
   "cell_type": "code",
   "execution_count": 31,
   "metadata": {},
   "outputs": [
    {
     "name": "stdout",
     "output_type": "stream",
     "text": [
      "First digit =  5\n"
     ]
    }
   ],
   "source": [
    "print('First digit = ',y_train[0])"
   ]
  },
  {
   "cell_type": "markdown",
   "metadata": {},
   "source": [
    "### Normalize data\n",
    "<a id= \"#normalize_data\"/>\n",
    "\n",
    "- Generally a good idea to \"normalize\" our data.\n",
    "- Ex: Scaling the data to be between 0 and 1, or maybe -1 and positive 1"
   ]
  },
  {
   "cell_type": "code",
   "execution_count": 39,
   "metadata": {},
   "outputs": [
    {
     "name": "stdout",
     "output_type": "stream",
     "text": [
      "x_train[0] =  [[0.         0.         0.         0.         0.         0.\n",
      "  0.         0.         0.         0.         0.         0.\n",
      "  0.         0.         0.         0.         0.         0.\n",
      "  0.         0.         0.         0.         0.         0.\n",
      "  0.         0.         0.         0.        ]\n",
      " [0.         0.         0.         0.         0.         0.\n",
      "  0.         0.         0.         0.         0.         0.\n",
      "  0.         0.         0.         0.         0.         0.\n",
      "  0.         0.         0.         0.         0.         0.\n",
      "  0.         0.         0.         0.        ]\n",
      " [0.         0.         0.         0.         0.         0.\n",
      "  0.         0.         0.         0.         0.         0.\n",
      "  0.         0.         0.         0.         0.         0.\n",
      "  0.         0.         0.         0.         0.         0.\n",
      "  0.         0.         0.         0.        ]\n",
      " [0.         0.         0.         0.         0.         0.\n",
      "  0.         0.         0.         0.         0.         0.\n",
      "  0.         0.         0.         0.         0.         0.\n",
      "  0.         0.         0.         0.         0.         0.\n",
      "  0.         0.         0.         0.        ]\n",
      " [0.         0.         0.         0.         0.         0.\n",
      "  0.         0.         0.         0.         0.         0.\n",
      "  0.         0.         0.         0.         0.         0.\n",
      "  0.         0.         0.         0.         0.         0.\n",
      "  0.         0.         0.         0.        ]\n",
      " [0.         0.         0.         0.         0.         0.\n",
      "  0.         0.         0.         0.         0.         0.\n",
      "  0.00393124 0.02332955 0.02620568 0.02625207 0.17420356 0.17566281\n",
      "  0.28629534 0.05664824 0.51877786 0.71632322 0.77892406 0.89301644\n",
      "  0.         0.         0.         0.        ]\n",
      " [0.         0.         0.         0.         0.         0.\n",
      "  0.         0.         0.05780486 0.06524513 0.16128198 0.22713296\n",
      "  0.22277047 0.32790981 0.36833534 0.3689874  0.34978968 0.32678448\n",
      "  0.368094   0.3747499  0.79066747 0.67980478 0.61494005 0.45002403\n",
      "  0.         0.         0.         0.        ]\n",
      " [0.         0.         0.         0.         0.         0.\n",
      "  0.         0.12250613 0.45858525 0.45852825 0.43408872 0.37314701\n",
      "  0.33153488 0.32790981 0.36833534 0.3689874  0.34978968 0.32420121\n",
      "  0.15214552 0.17865984 0.25626376 0.1573102  0.12298801 0.\n",
      "  0.         0.         0.         0.        ]\n",
      " [0.         0.         0.         0.         0.         0.\n",
      "  0.         0.04500225 0.4219755  0.45852825 0.43408872 0.37314701\n",
      "  0.33153488 0.32790981 0.28826244 0.26543758 0.34149427 0.31128482\n",
      "  0.         0.         0.         0.         0.         0.\n",
      "  0.         0.         0.         0.        ]\n",
      " [0.         0.         0.         0.         0.         0.\n",
      "  0.         0.         0.1541463  0.28272888 0.18358693 0.37314701\n",
      "  0.33153488 0.26569767 0.01601458 0.         0.05945042 0.19891229\n",
      "  0.         0.         0.         0.         0.         0.\n",
      "  0.         0.         0.         0.        ]\n",
      " [0.         0.         0.         0.         0.         0.\n",
      "  0.         0.         0.         0.0253731  0.00171577 0.22713296\n",
      "  0.33153488 0.11664776 0.         0.         0.         0.\n",
      "  0.         0.         0.         0.         0.         0.\n",
      "  0.         0.         0.         0.        ]\n",
      " [0.         0.         0.         0.         0.         0.\n",
      "  0.         0.         0.         0.         0.         0.20500962\n",
      "  0.33153488 0.24625638 0.00291174 0.         0.         0.\n",
      "  0.         0.         0.         0.         0.         0.\n",
      "  0.         0.         0.         0.        ]\n",
      " [0.         0.         0.         0.         0.         0.\n",
      "  0.         0.         0.         0.         0.         0.01622378\n",
      "  0.24897876 0.32790981 0.10191096 0.         0.         0.\n",
      "  0.         0.         0.         0.         0.         0.\n",
      "  0.         0.         0.         0.        ]\n",
      " [0.         0.         0.         0.         0.         0.\n",
      "  0.         0.         0.         0.         0.         0.\n",
      "  0.04586451 0.31235677 0.32757096 0.23335172 0.14931733 0.00129164\n",
      "  0.         0.         0.         0.         0.         0.\n",
      "  0.         0.         0.         0.        ]\n",
      " [0.         0.         0.         0.         0.         0.\n",
      "  0.         0.         0.         0.         0.         0.\n",
      "  0.         0.10498298 0.34940902 0.3689874  0.34978968 0.15370495\n",
      "  0.04089933 0.         0.         0.         0.         0.\n",
      "  0.         0.         0.         0.        ]\n",
      " [0.         0.         0.         0.         0.         0.\n",
      "  0.         0.         0.         0.         0.         0.\n",
      "  0.         0.         0.06551419 0.27127137 0.34978968 0.32678448\n",
      "  0.245396   0.05882702 0.         0.         0.         0.\n",
      "  0.         0.         0.         0.        ]\n",
      " [0.         0.         0.         0.         0.         0.\n",
      "  0.         0.         0.         0.         0.         0.\n",
      "  0.         0.         0.         0.02333517 0.12857881 0.32549285\n",
      "  0.41390126 0.40743158 0.         0.         0.         0.\n",
      "  0.         0.         0.         0.        ]\n",
      " [0.         0.         0.         0.         0.         0.\n",
      "  0.         0.         0.         0.         0.         0.\n",
      "  0.         0.         0.         0.         0.         0.32161793\n",
      "  0.41390126 0.54251585 0.20001074 0.         0.         0.\n",
      "  0.         0.         0.         0.        ]\n",
      " [0.         0.         0.         0.         0.         0.\n",
      "  0.         0.         0.         0.         0.         0.\n",
      "  0.         0.         0.06697006 0.18959827 0.25300993 0.32678448\n",
      "  0.41390126 0.45100715 0.00625034 0.         0.         0.\n",
      "  0.         0.         0.         0.        ]\n",
      " [0.         0.         0.         0.         0.         0.\n",
      "  0.         0.         0.         0.         0.         0.\n",
      "  0.05110617 0.19182076 0.33339444 0.3689874  0.34978968 0.32678448\n",
      "  0.40899334 0.39653769 0.         0.         0.         0.\n",
      "  0.         0.         0.         0.        ]\n",
      " [0.         0.         0.         0.         0.         0.\n",
      "  0.         0.         0.         0.         0.04117838 0.16813739\n",
      "  0.28960162 0.32790981 0.36833534 0.3689874  0.34978968 0.25961929\n",
      "  0.12760592 0.         0.         0.         0.         0.\n",
      "  0.         0.         0.         0.        ]\n",
      " [0.         0.         0.         0.         0.         0.\n",
      "  0.         0.         0.04431706 0.11961607 0.36545809 0.37314701\n",
      "  0.33153488 0.32790981 0.36833534 0.28877275 0.111988   0.00258328\n",
      "  0.         0.         0.         0.         0.         0.\n",
      "  0.         0.         0.         0.        ]\n",
      " [0.         0.         0.         0.         0.         0.\n",
      "  0.05298497 0.42752138 0.4219755  0.45852825 0.43408872 0.37314701\n",
      "  0.33153488 0.25273681 0.11646967 0.01312603 0.         0.\n",
      "  0.         0.         0.         0.         0.         0.\n",
      "  0.         0.         0.         0.        ]\n",
      " [0.         0.         0.         0.         0.37491383 0.56222061\n",
      "  0.66525569 0.63253163 0.48748768 0.45852825 0.43408872 0.359873\n",
      "  0.17428513 0.01425695 0.         0.         0.         0.\n",
      "  0.         0.         0.         0.         0.         0.\n",
      "  0.         0.         0.         0.        ]\n",
      " [0.         0.         0.         0.         0.92705966 0.82698729\n",
      "  0.74473314 0.63253163 0.4084877  0.24466922 0.22648107 0.02359823\n",
      "  0.         0.         0.         0.         0.         0.\n",
      "  0.         0.         0.         0.         0.         0.\n",
      "  0.         0.         0.         0.        ]\n",
      " [0.         0.         0.         0.         0.         0.\n",
      "  0.         0.         0.         0.         0.         0.\n",
      "  0.         0.         0.         0.         0.         0.\n",
      "  0.         0.         0.         0.         0.         0.\n",
      "  0.         0.         0.         0.        ]\n",
      " [0.         0.         0.         0.         0.         0.\n",
      "  0.         0.         0.         0.         0.         0.\n",
      "  0.         0.         0.         0.         0.         0.\n",
      "  0.         0.         0.         0.         0.         0.\n",
      "  0.         0.         0.         0.        ]\n",
      " [0.         0.         0.         0.         0.         0.\n",
      "  0.         0.         0.         0.         0.         0.\n",
      "  0.         0.         0.         0.         0.         0.\n",
      "  0.         0.         0.         0.         0.         0.\n",
      "  0.         0.         0.         0.        ]]\n"
     ]
    }
   ],
   "source": [
    "x_train = keras.utils.normalize(x_train, axis=1)  # scales data between 0 and 1\n",
    "x_test = keras.utils.normalize(x_test, axis=1)    # scales data between 0 and 1\n",
    "\n",
    "# Equivalently\n",
    "# x_train = x_train / 255\n",
    "# x_test = x_test / 255\n",
    "\n",
    "print('x_train[0] = ',x_train[0])"
   ]
  },
  {
   "cell_type": "markdown",
   "metadata": {},
   "source": [
    "- Flattened the x_train and x_test data"
   ]
  },
  {
   "cell_type": "code",
   "execution_count": 42,
   "metadata": {},
   "outputs": [
    {
     "data": {
      "text/plain": [
       "(60000, 784)"
      ]
     },
     "execution_count": 42,
     "metadata": {},
     "output_type": "execute_result"
    }
   ],
   "source": [
    "x_train_flattened = x_train.reshape(len(x_train), 28*28)\n",
    "x_test_flattened = x_test.reshape(len(x_test), 28*28)\n",
    "\n",
    "x_train_flattened.shape"
   ]
  },
  {
   "cell_type": "markdown",
   "metadata": {},
   "source": [
    "## Build the models\n",
    "<a id=\"#build_models\"></a>\n",
    "\n",
    "We will build THREE models:\n",
    "- Model-1: Simple neural network with no hidden layers \n",
    "- Model-2: Using hidden layer in the neural network \n",
    "- Model-3: Using Flatten layer so that we don't have to call .reshape on input dataset"
   ]
  },
  {
   "cell_type": "markdown",
   "metadata": {},
   "source": [
    "<h3 style='color:purple'> Model-1: Simple neural network with no hidden layers </h3>\n",
    "<a id=\"#model1\"></a>"
   ]
  },
  {
   "cell_type": "markdown",
   "metadata": {},
   "source": [
    "<img src=\"digits_nn.jpg\" />"
   ]
  },
  {
   "cell_type": "code",
   "execution_count": 83,
   "metadata": {},
   "outputs": [
    {
     "name": "stdout",
     "output_type": "stream",
     "text": [
      "Epoch 1/5\n",
      "1875/1875 [==============================] - 2s 1ms/step - loss: 0.6462 - accuracy: 0.8557\n",
      "Epoch 2/5\n",
      "1875/1875 [==============================] - 2s 1ms/step - loss: 0.3461 - accuracy: 0.9049\n",
      "Epoch 3/5\n",
      "1875/1875 [==============================] - 2s 873us/step - loss: 0.3106 - accuracy: 0.9128\n",
      "Epoch 4/5\n",
      "1875/1875 [==============================] - 2s 1ms/step - loss: 0.2941 - accuracy: 0.9179\n",
      "Epoch 5/5\n",
      "1875/1875 [==============================] - 2s 1ms/step - loss: 0.2837 - accuracy: 0.9200\n"
     ]
    },
    {
     "data": {
      "text/plain": [
       "<tensorflow.python.keras.callbacks.History at 0x2ae3627ee20>"
      ]
     },
     "execution_count": 83,
     "metadata": {},
     "output_type": "execute_result"
    }
   ],
   "source": [
    "model = keras.Sequential([                                            # sequential model for  direct order, a basic feed-forward model\n",
    "    keras.layers.Dense(10, input_shape=(784,), activation='sigmoid')   # Simplest neural network layer, which is just a Dense layer, and the output layer. Output layer has 10 nodes. 1 node per possible number prediction.  \n",
    "])                                                                     # No hidden layer\n",
    "\n",
    "# -------------Alternative way -----------\n",
    "# model = keras.models.Sequential()               # sequential model for  direct order, a basic feed-forward model\n",
    "# model.add(keras.layers.Dense(10, input_shape=(784,), activation='sigmoid'))  # Final layer or the output layer has 10 nodes. 1 node per possible number prediction. \n",
    "\n",
    "# compile the model \n",
    "model.compile(optimizer='adam',                       # Default optimizer to start with\n",
    "              loss='sparse_categorical_crossentropy', # Calculate our \"error\". Neural network aims to minimize \n",
    "              metrics=['accuracy'])                   # Merices\n",
    "\n",
    "model.fit(x_train_flattened, y_train, epochs=5)       # Fit or Train the model"
   ]
  },
  {
   "cell_type": "markdown",
   "metadata": {},
   "source": [
    "#### Model evaluate using test data"
   ]
  },
  {
   "cell_type": "code",
   "execution_count": 92,
   "metadata": {},
   "outputs": [
    {
     "name": "stdout",
     "output_type": "stream",
     "text": [
      "313/313 [==============================] - 0s 1ms/step - loss: 0.0952 - accuracy: 0.9710\n",
      "0.0952460765838623\n",
      "0.9710000157356262\n"
     ]
    }
   ],
   "source": [
    "val_loss, val_acc = model.evaluate(x_test, y_test)  # evaluate for sample data with model\n",
    "print(val_loss)  # model's loss (error)\n",
    "print(val_acc)   # model's accuracy"
   ]
  },
  {
   "cell_type": "markdown",
   "metadata": {},
   "source": [
    "#### Predict the model"
   ]
  },
  {
   "cell_type": "code",
   "execution_count": 55,
   "metadata": {},
   "outputs": [
    {
     "data": {
      "text/plain": [
       "array([5.1064428e-05, 4.1093215e-05, 1.5001950e-01, 1.8766522e-04,\n",
       "       1.8446640e-11, 5.0207973e-04, 4.1472912e-04, 5.8538103e-13,\n",
       "       5.3105185e-05, 1.4432262e-10], dtype=float32)"
      ]
     },
     "execution_count": 55,
     "metadata": {},
     "output_type": "execute_result"
    }
   ],
   "source": [
    "y_predicted = model.predict(x_test_flattened)\n",
    "y_predicted[1]"
   ]
  },
  {
   "cell_type": "code",
   "execution_count": 52,
   "metadata": {},
   "outputs": [
    {
     "data": {
      "text/plain": [
       "2"
      ]
     },
     "execution_count": 52,
     "metadata": {},
     "output_type": "execute_result"
    }
   ],
   "source": [
    "# finds a maximum element of an array and returns it's index\n",
    "np.argmax(y_predicted[1])"
   ]
  },
  {
   "cell_type": "code",
   "execution_count": 58,
   "metadata": {},
   "outputs": [
    {
     "data": {
      "text/plain": [
       "<matplotlib.image.AxesImage at 0x2ae0ce21100>"
      ]
     },
     "execution_count": 58,
     "metadata": {},
     "output_type": "execute_result"
    },
    {
     "data": {
      "image/png": "[encoded data removed]",
      "text/plain": [
       "<Figure size 288x288 with 1 Axes>"
      ]
     },
     "metadata": {
      "needs_background": "light"
     },
     "output_type": "display_data"
    }
   ],
   "source": [
    "# Actual test image\n",
    "plt.matshow(x_test[1])"
   ]
  },
  {
   "cell_type": "code",
   "execution_count": 62,
   "metadata": {},
   "outputs": [
    {
     "data": {
      "text/plain": [
       "[7, 2, 1, 0, 4, 1, 4, 9, 6, 9]"
      ]
     },
     "execution_count": 62,
     "metadata": {},
     "output_type": "execute_result"
    }
   ],
   "source": [
    "# All predicted digits\n",
    "y_predicted_labels = [np.argmax(i) for i in y_predicted]\n",
    "y_predicted_labels[:10]"
   ]
  },
  {
   "cell_type": "markdown",
   "metadata": {},
   "source": [
    "#### Compute the confution matrix and display the matrix\n",
    "<a id=\"#model1_confusion_matrix\"></a>\n",
    "\n",
    "- Q. Why do we need confusion matrix?\n",
    " - Ans: To evaate the performance of a model. It show the comparison between the predicted vs truth values. \n",
    " - Anything except the diagonal of the confusion matrix are ERROR.\n",
    " - Example: If you look at the second column of the confusion matrix figure: \n",
    "   - In cell (2,2): our model 1110 time predicted 1 (as shown in the horizontal label), and the truth value is 1 (as shown in the vertical label)\n",
    "   - In cell (3,1): our model predicted 1 for 6 times, but the truth value is 2. "
   ]
  },
  {
   "cell_type": "code",
   "execution_count": 65,
   "metadata": {},
   "outputs": [
    {
     "data": {
      "text/plain": [
       "<tf.Tensor: shape=(10, 10), dtype=int32, numpy=\n",
       "array([[ 957,    0,    0,    1,    0,    6,    8,    3,    5,    0],\n",
       "       [   0, 1110,    4,    1,    0,    3,    4,    0,   13,    0],\n",
       "       [   9,    6,  914,   22,   12,    2,   12,   11,   41,    3],\n",
       "       [   3,    0,   15,  931,    1,   20,    2,    9,   21,    8],\n",
       "       [   1,    1,    6,    1,  929,    0,   10,    3,    8,   23],\n",
       "       [   8,    1,    6,   39,    6,  757,   17,    8,   45,    5],\n",
       "       [  15,    3,   11,    1,   11,   12,  899,    0,    6,    0],\n",
       "       [   2,    5,   28,    8,    7,    0,    0,  950,    2,   26],\n",
       "       [   5,    5,    8,   29,   11,   26,    8,   11,  864,    7],\n",
       "       [   8,    6,    4,   11,   34,    9,    0,   24,    9,  904]])>"
      ]
     },
     "execution_count": 65,
     "metadata": {},
     "output_type": "execute_result"
    }
   ],
   "source": [
    "cmatrix = tf.math.confusion_matrix(labels=y_test,predictions=y_predicted_labels)\n",
    "cmatrix"
   ]
  },
  {
   "cell_type": "code",
   "execution_count": 66,
   "metadata": {},
   "outputs": [
    {
     "data": {
      "text/plain": [
       "Text(69.0, 0.5, 'Truth')"
      ]
     },
     "execution_count": 66,
     "metadata": {},
     "output_type": "execute_result"
    },
    {
     "data": {
      "image/png": "[encoded data removed]",
      "text/plain": [
       "<Figure size 720x504 with 2 Axes>"
      ]
     },
     "metadata": {
      "needs_background": "light"
     },
     "output_type": "display_data"
    }
   ],
   "source": [
    "import seaborn as sn\n",
    "plt.figure(figsize = (10,7))\n",
    "sn.heatmap(cmatrix, annot=True, fmt='d')\n",
    "plt.xlabel('Predicted')\n",
    "plt.ylabel('Truth')"
   ]
  },
  {
   "cell_type": "markdown",
   "metadata": {},
   "source": [
    "<h3 style='color:purple'>Model-2: Using one hidden layer in the neural network </h3>\n",
    "<a id=\"#model2\"></a>"
   ]
  },
  {
   "cell_type": "markdown",
   "metadata": {},
   "source": [
    "<img src=\"3-layer-nn.png\" />\n",
    " \n",
    "\n",
    "\n",
    "\n",
    "- Q. How many nurons do we chose for the hidden layer?\n",
    " - Ans: It is a trial and error method, Need more study about it.\n",
    " \n",
    "Ref: <a url = \"http://neuralnetworksanddeeplearning.com/chap1.html#perceptrons\"> Image source is here. </a>"
   ]
  },
  {
   "cell_type": "code",
   "execution_count": 82,
   "metadata": {},
   "outputs": [
    {
     "name": "stdout",
     "output_type": "stream",
     "text": [
      "Epoch 1/5\n",
      "1875/1875 [==============================] - 3s 2ms/step - loss: 0.3311 - accuracy: 0.9100\n",
      "Epoch 2/5\n",
      "1875/1875 [==============================] - 2s 1ms/step - loss: 0.1499 - accuracy: 0.9554\n",
      "Epoch 3/5\n",
      "1875/1875 [==============================] - 3s 2ms/step - loss: 0.1064 - accuracy: 0.9687\n",
      "Epoch 4/5\n",
      "1875/1875 [==============================] - 3s 2ms/step - loss: 0.0823 - accuracy: 0.9755\n",
      "Epoch 5/5\n",
      "1875/1875 [==============================] - 3s 2ms/step - loss: 0.0661 - accuracy: 0.9798\n"
     ]
    },
    {
     "data": {
      "text/plain": [
       "<tensorflow.python.keras.callbacks.History at 0x2ae29ab2d00>"
      ]
     },
     "execution_count": 82,
     "metadata": {},
     "output_type": "execute_result"
    }
   ],
   "source": [
    "model = keras.Sequential([                                            # sequential model for  direct order, a basic feed-forward model\n",
    "    keras.layers.Dense(15, input_shape=(784,),activation='relu'),    # Simplest neural network layer, which is just a Dense layer. This layer has 128 units [which is the hidden layes]. The activation function is relu. \n",
    "    keras.layers.Dense(10, input_shape=(784,), activation='sigmoid')   # Final layer or the output layer has 10 nodes. 1 node per possible number prediction. \n",
    "])\n",
    "\n",
    "# -------------Alternative way -----------\n",
    "# model = keras.models.Sequential()               # sequential model for  direct order, a basic feed-forward model\n",
    "# model.add(keras.layers.Dense(128, input_shape=(784,), activation='relu'))  # Simplest neural network layer, which is just a Dense layer. This layer has 128 units [which is the hidden layes]. The activation function is relu.                                \n",
    "# model.add(keras.layers.Dense(10, input_shape=(784,), activation='sigmoid'))  # Final layer or the output layer has 10 nodes. 1 node per possible number prediction. \n",
    "\n",
    "\n",
    "# compile the model \n",
    "model.compile(optimizer='adam',                       # Default optimizer to start with\n",
    "              loss='sparse_categorical_crossentropy', # Calculate our \"error\". Neural network aims to minimize \n",
    "              metrics=['accuracy'])                   # Merices\n",
    "\n",
    "model.fit(x_train_flattened, y_train, epochs=5)       # Fit or Train the model"
   ]
  },
  {
   "cell_type": "markdown",
   "metadata": {},
   "source": [
    "#### Model evaluate using test data"
   ]
  },
  {
   "cell_type": "code",
   "execution_count": 91,
   "metadata": {},
   "outputs": [
    {
     "name": "stdout",
     "output_type": "stream",
     "text": [
      "313/313 [==============================] - 0s 1ms/step - loss: 0.0952 - accuracy: 0.9710\n",
      "0.0952460765838623\n",
      "0.9710000157356262\n"
     ]
    }
   ],
   "source": [
    "val_loss, val_acc = model.evaluate(x_test, y_test)  # evaluate for sample data with model\n",
    "print(val_loss)  # model's loss (error)\n",
    "print(val_acc)   # model's accuracy"
   ]
  },
  {
   "cell_type": "markdown",
   "metadata": {},
   "source": [
    "#### Predict the model"
   ]
  },
  {
   "cell_type": "code",
   "execution_count": 71,
   "metadata": {},
   "outputs": [
    {
     "data": {
      "text/plain": [
       "array([5.0411154e-07, 3.2931566e-04, 2.4915585e-01, 1.0989277e-05,\n",
       "       5.3910365e-16, 1.1813792e-05, 5.3376596e-08, 6.2998012e-13,\n",
       "       4.4459206e-08, 1.8766130e-12], dtype=float32)"
      ]
     },
     "execution_count": 71,
     "metadata": {},
     "output_type": "execute_result"
    }
   ],
   "source": [
    "y_predicted = model.predict(x_test_flattened)\n",
    "y_predicted[1]"
   ]
  },
  {
   "cell_type": "code",
   "execution_count": 72,
   "metadata": {},
   "outputs": [
    {
     "data": {
      "text/plain": [
       "2"
      ]
     },
     "execution_count": 72,
     "metadata": {},
     "output_type": "execute_result"
    }
   ],
   "source": [
    "# finds a maximum element of an array and returns it's index\n",
    "np.argmax(y_predicted[1])"
   ]
  },
  {
   "cell_type": "code",
   "execution_count": 78,
   "metadata": {},
   "outputs": [
    {
     "data": {
      "text/plain": [
       "[7, 2, 1, 0, 4, 1, 4, 9, 5, 9]"
      ]
     },
     "execution_count": 78,
     "metadata": {},
     "output_type": "execute_result"
    }
   ],
   "source": [
    "# All predicted labels/digits\n",
    "y_predicted_labels = [np.argmax(i) for i in y_predicted]\n",
    "y_predicted_labels[:10]"
   ]
  },
  {
   "cell_type": "markdown",
   "metadata": {},
   "source": [
    "#### Compute the confution matrix and display the matrix\n",
    "<a id=\"#model2_confusion_matrix\"></a>\n"
   ]
  },
  {
   "cell_type": "code",
   "execution_count": 75,
   "metadata": {},
   "outputs": [
    {
     "data": {
      "text/plain": [
       "<tf.Tensor: shape=(10, 10), dtype=int32, numpy=\n",
       "array([[ 971,    0,    1,    1,    1,    0,    3,    2,    1,    0],\n",
       "       [   0, 1120,    4,    0,    0,    0,    3,    1,    7,    0],\n",
       "       [   6,    1, 1008,    5,    2,    0,    3,    3,    4,    0],\n",
       "       [   1,    1,    1,  989,    3,    4,    0,    4,    5,    2],\n",
       "       [   2,    0,    3,    1,  967,    0,    3,    0,    2,    4],\n",
       "       [   3,    1,    1,   17,    1,  853,    6,    0,    8,    2],\n",
       "       [  12,    2,    2,    0,    5,    2,  933,    0,    2,    0],\n",
       "       [   3,    6,   12,    4,    5,    0,    0,  995,    0,    3],\n",
       "       [  11,    1,    4,   12,    5,    2,    4,    3,  927,    5],\n",
       "       [   5,    6,    0,    9,   16,    2,    0,    4,    3,  964]])>"
      ]
     },
     "execution_count": 75,
     "metadata": {},
     "output_type": "execute_result"
    }
   ],
   "source": [
    "cmatrix = tf.math.confusion_matrix(labels=y_test,predictions=y_predicted_labels)\n",
    "cmatrix"
   ]
  },
  {
   "cell_type": "code",
   "execution_count": 77,
   "metadata": {},
   "outputs": [
    {
     "data": {
      "text/plain": [
       "Text(69.0, 0.5, 'Truth')"
      ]
     },
     "execution_count": 77,
     "metadata": {},
     "output_type": "execute_result"
    },
    {
     "data": {
      "image/png": "[encoded data removed]",
      "text/plain": [
       "<Figure size 720x504 with 2 Axes>"
      ]
     },
     "metadata": {
      "needs_background": "light"
     },
     "output_type": "display_data"
    }
   ],
   "source": [
    "y_predicted = model.predict(x_test_flattened)\n",
    "y_predicted_labels = [np.argmax(i) for i in y_predicted]\n",
    "\n",
    "cmatrix = tf.math.confusion_matrix(labels=y_test,predictions=y_predicted_labels)\n",
    "\n",
    "plt.figure(figsize = (10,7))\n",
    "sn.heatmap(cmatrix, annot=True, fmt='d')\n",
    "plt.xlabel('Predicted')\n",
    "plt.ylabel('Truth')"
   ]
  },
  {
   "cell_type": "markdown",
   "metadata": {},
   "source": [
    "<a id=\"#model3\"></a>\n",
    "<h3 style='color:purple'>Model-3: Using Flatten layer so that we do not have to call .reshape on input dataset</h3>"
   ]
  },
  {
   "cell_type": "code",
   "execution_count": 97,
   "metadata": {},
   "outputs": [
    {
     "name": "stdout",
     "output_type": "stream",
     "text": [
      "Epoch 1/5\n",
      "1875/1875 [==============================] - 3s 2ms/step - loss: 0.3408 - accuracy: 0.9071\n",
      "Epoch 2/5\n",
      "1875/1875 [==============================] - 3s 1ms/step - loss: 0.1609 - accuracy: 0.9519\n",
      "Epoch 3/5\n",
      "1875/1875 [==============================] - 3s 1ms/step - loss: 0.1132 - accuracy: 0.9663\n",
      "Epoch 4/5\n",
      "1875/1875 [==============================] - 3s 1ms/step - loss: 0.0856 - accuracy: 0.9738\n",
      "Epoch 5/5\n",
      "1875/1875 [==============================] - 3s 1ms/step - loss: 0.0683 - accuracy: 0.9801\n"
     ]
    },
    {
     "data": {
      "text/plain": [
       "<tensorflow.python.keras.callbacks.History at 0x2ae364daee0>"
      ]
     },
     "execution_count": 97,
     "metadata": {},
     "output_type": "execute_result"
    }
   ],
   "source": [
    "model = keras.Sequential([                          # sequential model for  direct order, a basic feed-forward model\n",
    "    keras.layers.Flatten(input_shape=(28, 28)),\n",
    "    keras.layers.Dense(128, activation='relu'),    # Simplest neural network layer, which is just a Dense layer. This layer has 128 units [which is the hidden layes]. The activation function is relu. \n",
    "    keras.layers.Dense(10, activation='sigmoid')   # Final layer or the output layer has 10 nodes. 1 node per possible number prediction. \n",
    "])\n",
    "\n",
    "                                                      # compile the model \n",
    "model.compile(optimizer='adam',                       # Default optimizer to start with\n",
    "              loss='sparse_categorical_crossentropy', # Calculate our \"error\". Neural network aims to minimize \n",
    "              metrics=['accuracy'])                   # Merices\n",
    "\n",
    "model.fit(x_train, y_train, epochs=5)               # Fit or Train the model"
   ]
  },
  {
   "cell_type": "markdown",
   "metadata": {},
   "source": [
    "#### Model evaluate using test data"
   ]
  },
  {
   "cell_type": "code",
   "execution_count": 98,
   "metadata": {},
   "outputs": [
    {
     "name": "stdout",
     "output_type": "stream",
     "text": [
      "313/313 [==============================] - 0s 962us/step - loss: 0.0938 - accuracy: 0.9712\n",
      "0.09383531659841537\n",
      "0.9711999893188477\n"
     ]
    }
   ],
   "source": [
    "val_loss, val_acc = model.evaluate(x_test, y_test)  # evaluate for sample data with model\n",
    "print(val_loss)  # model's loss (error)\n",
    "print(val_acc)   # model's accuracy"
   ]
  },
  {
   "cell_type": "markdown",
   "metadata": {},
   "source": [
    "#### Compute the confution matrix and display the matrix\n",
    "<a id=\"#model3_confusion_matrix\"></a>\n"
   ]
  },
  {
   "cell_type": "code",
   "execution_count": 106,
   "metadata": {
    "scrolled": false
   },
   "outputs": [
    {
     "data": {
      "text/plain": [
       "Text(69.0, 0.5, 'Truth')"
      ]
     },
     "execution_count": 106,
     "metadata": {},
     "output_type": "execute_result"
    },
    {
     "data": {
      "image/png": "[encoded data removed]",
      "text/plain": [
       "<Figure size 720x504 with 2 Axes>"
      ]
     },
     "metadata": {
      "needs_background": "light"
     },
     "output_type": "display_data"
    }
   ],
   "source": [
    "y_predicted = model.predict(x_test)\n",
    "y_predicted_labels = [np.argmax(i) for i in y_predicted]\n",
    "\n",
    "cmatrix = tf.math.confusion_matrix(labels=y_test,predictions=y_predicted_labels)\n",
    "\n",
    "plt.figure(figsize = (10,7))\n",
    "sn.heatmap(cmatrix, annot=True, fmt='d')\n",
    "plt.xlabel('Predicted')\n",
    "plt.ylabel('Truth')"
   ]
  },
  {
   "cell_type": "markdown",
   "metadata": {},
   "source": [
    "<h2 style='color:purple'> Save the Model and Load the model back </h2>"
   ]
  },
  {
   "cell_type": "markdown",
   "metadata": {},
   "source": [
    "<h3 style='color:purple'> Save the Model</h3>\n",
    "<a id=\"#save\"></a>"
   ]
  },
  {
   "cell_type": "code",
   "execution_count": 104,
   "metadata": {},
   "outputs": [
    {
     "name": "stdout",
     "output_type": "stream",
     "text": [
      "INFO:tensorflow:Assets written to: digit_recognition.model\\assets\n"
     ]
    }
   ],
   "source": [
    "model.save('digit_recognition.model')"
   ]
  },
  {
   "cell_type": "markdown",
   "metadata": {},
   "source": [
    "<h3 style='color:purple'> Load the model back and make predictions </h3>\n"
   ]
  },
  {
   "cell_type": "code",
   "execution_count": 105,
   "metadata": {
    "scrolled": false
   },
   "outputs": [
    {
     "name": "stdout",
     "output_type": "stream",
     "text": [
      "[[1.3025196e-09 3.4425038e-10 3.5091564e-06 ... 8.2765305e-01\n",
      "  3.5415155e-08 2.0322167e-08]\n",
      " [4.3754467e-09 1.0893287e-04 5.9734619e-01 ... 5.2248236e-12\n",
      "  8.6807155e-08 4.4559693e-13]\n",
      " [3.2848636e-08 9.4586104e-02 2.5381027e-05 ... 1.7706718e-05\n",
      "  3.0745359e-05 7.0456437e-08]\n",
      " ...\n",
      " [2.8663780e-11 4.8599178e-09 3.8353414e-09 ... 1.0712723e-05\n",
      "  1.5426984e-05 1.4156103e-04]\n",
      " [1.8388205e-09 2.6757670e-07 1.9394644e-09 ... 2.1651896e-07\n",
      "  8.3768368e-04 4.6585891e-09]\n",
      " [2.1647497e-07 6.7941412e-09 1.3408674e-06 ... 7.1998396e-10\n",
      "  2.8064308e-08 2.0115722e-09]]\n"
     ]
    }
   ],
   "source": [
    "new_model = keras.models.load_model('digit_recognition.model')\n",
    "predictions = new_model.predict(x_test)\n",
    "print(predictions)"
   ]
  },
  {
   "cell_type": "markdown",
   "metadata": {},
   "source": [
    "#### Check our prediction and inputed test image"
   ]
  },
  {
   "cell_type": "code",
   "execution_count": 110,
   "metadata": {},
   "outputs": [
    {
     "name": "stdout",
     "output_type": "stream",
     "text": [
      "7\n"
     ]
    },
    {
     "data": {
      "text/plain": [
       "<matplotlib.image.AxesImage at 0x2ae2a1021c0>"
      ]
     },
     "execution_count": 110,
     "metadata": {},
     "output_type": "execute_result"
    },
    {
     "data": {
      "image/png": "[encoded data removed]",
      "text/plain": [
       "<Figure size 288x288 with 1 Axes>"
      ]
     },
     "metadata": {
      "needs_background": "light"
     },
     "output_type": "display_data"
    }
   ],
   "source": [
    "print(np.argmax(predictions[0])) # prediction\n",
    "plt.matshow(x_test[0])           # Input/Actual test image"
   ]
  },
  {
   "cell_type": "code",
   "execution_count": 107,
   "metadata": {},
   "outputs": [
    {
     "data": {
      "text/plain": [
       "Text(69.0, 0.5, 'Truth')"
      ]
     },
     "execution_count": 107,
     "metadata": {},
     "output_type": "execute_result"
    },
    {
     "data": {
      "image/png": "[encoded data removed]",
      "text/plain": [
       "<Figure size 720x504 with 2 Axes>"
      ]
     },
     "metadata": {
      "needs_background": "light"
     },
     "output_type": "display_data"
    }
   ],
   "source": [
    "# Compute the confution matrix and display the matrix\n",
    "\n",
    "y_predicted = model.predict(x_test)\n",
    "y_predicted_labels = [np.argmax(i) for i in y_predicted]\n",
    "\n",
    "cmatrix = tf.math.confusion_matrix(labels=y_test,predictions=y_predicted_labels)\n",
    "\n",
    "plt.figure(figsize = (10,7))\n",
    "sn.heatmap(cmatrix, annot=True, fmt='d')\n",
    "plt.xlabel('Predicted')\n",
    "plt.ylabel('Truth')"
   ]
  },
  {
   "cell_type": "code",
   "execution_count": null,
   "metadata": {},
   "outputs": [],
   "source": []
  }
 ],
 "metadata": {
  "kernelspec": {
   "display_name": "Python [conda env:tensorflow]",
   "language": "python",
   "name": "conda-env-tensorflow-py"
  },
  "language_info": {
   "codemirror_mode": {
    "name": "ipython",
    "version": 3
   },
   "file_extension": ".py",
   "mimetype": "text/x-python",
   "name": "python",
   "nbconvert_exporter": "python",
   "pygments_lexer": "ipython3",
   "version": "3.8.5"
  },
  "toc": {
   "base_numbering": 1,
   "nav_menu": {},
   "number_sections": true,
   "sideBar": true,
   "skip_h1_title": true,
   "title_cell": "Table of Contents",
   "title_sidebar": "Contents",
   "toc_cell": false,
   "toc_position": {
    "height": "calc(100% - 180px)",
    "left": "10px",
    "top": "150px",
    "width": "349.091px"
   },
   "toc_section_display": true,
   "toc_window_display": true
  }
 },
 "nbformat": 4,
 "nbformat_minor": 4
}
